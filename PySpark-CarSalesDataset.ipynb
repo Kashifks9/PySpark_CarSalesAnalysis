{
 "cells": [
  {
   "cell_type": "markdown",
   "id": "93070e55",
   "metadata": {},
   "source": []
  },
  {
   "cell_type": "code",
   "execution_count": 50,
   "id": "0cef83f4",
   "metadata": {},
   "outputs": [],
   "source": [
    "from pyspark.sql import SparkSession\n",
    "from pyspark.sql import SparkSession\n",
    "from pyspark.ml.feature import VectorAssembler\n",
    "from pyspark.ml.regression import LinearRegression"
   ]
  },
  {
   "cell_type": "code",
   "execution_count": 51,
   "id": "bb34e0aa",
   "metadata": {},
   "outputs": [],
   "source": [
    "spark = SparkSession.builder.appName(\"ml-cls\").getOrCreate()"
   ]
  },
  {
   "cell_type": "markdown",
   "id": "9669d4c4",
   "metadata": {},
   "source": [
    "# Importing Dataset"
   ]
  },
  {
   "cell_type": "code",
   "execution_count": 52,
   "id": "9f917b32",
   "metadata": {},
   "outputs": [
    {
     "name": "stdout",
     "output_type": "stream",
     "text": [
      "+------------+-------+------------------+-------------------+------------+------------------+-----------+----------+---------+-----+------+-----------+-------------+---------------+-------------+-----------------+\n",
      "|Manufacturer|  Model|Sales_in_thousands|__year_resale_value|Vehicle_type|Price_in_thousands|Engine_size|Horsepower|Wheelbase|Width|Length|Curb_weight|Fuel_capacity|Fuel_efficiency|Latest_Launch|Power_perf_factor|\n",
      "+------------+-------+------------------+-------------------+------------+------------------+-----------+----------+---------+-----+------+-----------+-------------+---------------+-------------+-----------------+\n",
      "|       Acura|Integra|            16.919|              16.36|   Passenger|              21.5|        1.8|       140|    101.2| 67.3| 172.4|      2.639|         13.2|             28|     2/2/2012|      58.28014952|\n",
      "|       Acura|     TL|            39.384|             19.875|   Passenger|              28.4|        3.2|       225|    108.1| 70.3| 192.9|      3.517|         17.2|             25|     6/3/2011|      91.37077766|\n",
      "|       Acura|     CL|            14.114|             18.225|   Passenger|              26.3|        3.2|       225|    106.9| 70.6| 192.0|       3.47|         17.2|             26|     1/4/2012|             null|\n",
      "|       Acura|     RL|             8.588|             29.725|   Passenger|              42.0|        3.5|       210|    114.6| 71.4| 196.6|       3.85|         18.0|             22|    3/10/2011|      91.38977933|\n",
      "|        Audi|     A4|            20.397|             22.255|   Passenger|             23.99|        1.8|       150|    102.6| 68.2| 178.0|      2.998|         16.4|             27|    10/8/2011|       62.7776392|\n",
      "+------------+-------+------------------+-------------------+------------+------------------+-----------+----------+---------+-----+------+-----------+-------------+---------------+-------------+-----------------+\n",
      "only showing top 5 rows\n",
      "\n"
     ]
    }
   ],
   "source": [
    "df = spark.read.csv('D:/DataSets/Car_sales.csv', inferSchema = True, header = True)\n",
    "df.show(5)"
   ]
  },
  {
   "cell_type": "code",
   "execution_count": 53,
   "id": "4471b25a",
   "metadata": {},
   "outputs": [
    {
     "name": "stdout",
     "output_type": "stream",
     "text": [
      "(155, 16)\n"
     ]
    }
   ],
   "source": [
    "print((df.count(), len(df.columns)))"
   ]
  },
  {
   "cell_type": "markdown",
   "id": "2c0d280d",
   "metadata": {},
   "source": [
    "# Remove Nulls and Drop Columns "
   ]
  },
  {
   "cell_type": "code",
   "execution_count": 54,
   "id": "80d30d83",
   "metadata": {},
   "outputs": [
    {
     "name": "stdout",
     "output_type": "stream",
     "text": [
      "+------------+-----+------------------+-------------------+------------+------------------+-----------+----------+---------+-----+------+-----------+-------------+---------------+-------------+-----------------+\n",
      "|Manufacturer|Model|Sales_in_thousands|__year_resale_value|Vehicle_type|Price_in_thousands|Engine_size|Horsepower|Wheelbase|Width|Length|Curb_weight|Fuel_capacity|Fuel_efficiency|Latest_Launch|Power_perf_factor|\n",
      "+------------+-----+------------------+-------------------+------------+------------------+-----------+----------+---------+-----+------+-----------+-------------+---------------+-------------+-----------------+\n",
      "|           0|    0|                 0|                 36|           0|                 0|          0|         0|        0|    0|     0|          1|            0|              2|            0|                1|\n",
      "+------------+-----+------------------+-------------------+------------+------------------+-----------+----------+---------+-----+------+-----------+-------------+---------------+-------------+-----------------+\n",
      "\n"
     ]
    }
   ],
   "source": [
    "from pyspark.sql.functions import isnull, when, count\n",
    "df.select([count(when(isnull(c), c)).alias(c) for c in df.columns]).show()"
   ]
  },
  {
   "cell_type": "code",
   "execution_count": 55,
   "id": "29691583",
   "metadata": {},
   "outputs": [],
   "source": [
    "df = df.drop('Manufacturer')\n",
    "df = df.drop('Model')\n",
    "df = df.drop('__year_resale_value')\n",
    "df = df.drop('Vehicle_type')\n",
    "df = df.drop('Width')\n",
    "df = df.drop('Length')\n",
    "df = df.drop('Curb_weight')\n",
    "df = df.drop('Latest_Launch')\n"
   ]
  },
  {
   "cell_type": "code",
   "execution_count": 56,
   "id": "6c21c4f5",
   "metadata": {},
   "outputs": [
    {
     "name": "stdout",
     "output_type": "stream",
     "text": [
      "+------------------+------------------+-----------+----------+---------+-------------+---------------+-----------------+\n",
      "|Sales_in_thousands|Price_in_thousands|Engine_size|Horsepower|Wheelbase|Fuel_capacity|Fuel_efficiency|Power_perf_factor|\n",
      "+------------------+------------------+-----------+----------+---------+-------------+---------------+-----------------+\n",
      "|                 0|                 0|          0|         0|        0|            0|              2|                1|\n",
      "+------------------+------------------+-----------+----------+---------+-------------+---------------+-----------------+\n",
      "\n"
     ]
    }
   ],
   "source": [
    "from pyspark.sql.functions import isnull, when, count\n",
    "df.select([count(when(isnull(c), c)).alias(c) for c in df.columns]).show()"
   ]
  },
  {
   "cell_type": "code",
   "execution_count": 57,
   "id": "975bf326",
   "metadata": {},
   "outputs": [
    {
     "name": "stdout",
     "output_type": "stream",
     "text": [
      "+------------------+------------------+-----------+----------+---------+-------------+---------------+-----------------+\n",
      "|Sales_in_thousands|Price_in_thousands|Engine_size|Horsepower|Wheelbase|Fuel_capacity|Fuel_efficiency|Power_perf_factor|\n",
      "+------------------+------------------+-----------+----------+---------+-------------+---------------+-----------------+\n",
      "|                 0|                 0|          0|         0|        0|            0|              0|                0|\n",
      "+------------------+------------------+-----------+----------+---------+-------------+---------------+-----------------+\n",
      "\n"
     ]
    }
   ],
   "source": [
    "df = df.na.drop()\n",
    "df.select([count(when(isnull(c), c)).alias(c) for c in df.columns]).show()"
   ]
  },
  {
   "cell_type": "code",
   "execution_count": 58,
   "id": "0a788a0c",
   "metadata": {},
   "outputs": [
    {
     "name": "stdout",
     "output_type": "stream",
     "text": [
      "+------------------+------------------+-----------+----------+---------+-------------+---------------+-----------------+\n",
      "|Sales_in_thousands|Price_in_thousands|Engine_size|Horsepower|Wheelbase|Fuel_capacity|Fuel_efficiency|Power_perf_factor|\n",
      "+------------------+------------------+-----------+----------+---------+-------------+---------------+-----------------+\n",
      "|            16.919|              21.5|        1.8|       140|    101.2|         13.2|             28|      58.28014952|\n",
      "|            39.384|              28.4|        3.2|       225|    108.1|         17.2|             25|      91.37077766|\n",
      "|             8.588|              42.0|        3.5|       210|    114.6|         18.0|             22|      91.38977933|\n",
      "|            20.397|             23.99|        1.8|       150|    102.6|         16.4|             27|       62.7776392|\n",
      "|             18.78|             33.95|        2.8|       200|    108.7|         18.5|             22|      84.56510502|\n",
      "|              1.38|              62.0|        4.2|       310|    113.0|         23.7|             21|      134.6568582|\n",
      "|            19.747|             26.99|        2.5|       170|    107.3|         16.6|             26|      71.19120671|\n",
      "|             9.231|              33.4|        2.8|       193|    107.3|         16.6|             24|      81.87706856|\n",
      "|            17.527|              38.9|        2.8|       193|    111.4|         18.5|             25|       83.9987238|\n",
      "|            91.561|            21.975|        3.1|       175|    109.0|         17.5|             25|      71.18145132|\n",
      "|             39.35|              25.3|        3.8|       240|    109.0|         17.5|             23|      95.63670253|\n",
      "|            27.851|            31.965|        3.8|       205|    113.8|         18.5|             24|      85.82840825|\n",
      "|            83.257|            27.885|        3.8|       205|    112.2|         17.5|             25|      84.25452581|\n",
      "|            63.729|            39.895|        4.6|       275|    115.3|         18.5|             22|      113.8545976|\n",
      "|            15.943|            44.475|        4.6|       275|    112.2|         18.5|             22|      115.6213578|\n",
      "|             6.536|            39.665|        4.6|       275|    108.0|         19.0|             22|      113.7658739|\n",
      "|            11.185|             31.01|        3.0|       200|    107.4|         18.0|             22|      83.48309358|\n",
      "|            14.785|            46.225|        5.7|       255|    117.5|         30.0|             15|      109.5091165|\n",
      "|           145.519|             13.26|        2.2|       115|    104.1|         14.3|             27|      46.36334747|\n",
      "|           135.126|            16.535|        3.1|       170|    107.0|         15.0|             25|      67.31446216|\n",
      "+------------------+------------------+-----------+----------+---------+-------------+---------------+-----------------+\n",
      "only showing top 20 rows\n",
      "\n"
     ]
    }
   ],
   "source": [
    "df.show(20)"
   ]
  },
  {
   "cell_type": "code",
   "execution_count": 59,
   "id": "16e56fe5",
   "metadata": {},
   "outputs": [
    {
     "name": "stdout",
     "output_type": "stream",
     "text": [
      "root\n",
      " |-- Sales_in_thousands: double (nullable = true)\n",
      " |-- Price_in_thousands: double (nullable = true)\n",
      " |-- Engine_size: double (nullable = true)\n",
      " |-- Horsepower: integer (nullable = true)\n",
      " |-- Wheelbase: double (nullable = true)\n",
      " |-- Fuel_capacity: double (nullable = true)\n",
      " |-- Fuel_efficiency: integer (nullable = true)\n",
      " |-- Power_perf_factor: double (nullable = true)\n",
      "\n"
     ]
    }
   ],
   "source": [
    "df.printSchema()"
   ]
  },
  {
   "cell_type": "code",
   "execution_count": 60,
   "id": "622a3d0c",
   "metadata": {},
   "outputs": [
    {
     "data": {
      "text/plain": [
       "<AxesSubplot:>"
      ]
     },
     "execution_count": 60,
     "metadata": {},
     "output_type": "execute_result"
    },
    {
     "data": {
      "image/png": "[encoded data removed]",
      "text/plain": [
       "<Figure size 432x288 with 2 Axes>"
      ]
     },
     "metadata": {
      "needs_background": "light"
     },
     "output_type": "display_data"
    }
   ],
   "source": [
    "import seaborn as sns\n",
    "sns.heatmap(df.toPandas().corr(), annot = True)"
   ]
  },
  {
   "cell_type": "code",
   "execution_count": 61,
   "id": "e53b0745",
   "metadata": {},
   "outputs": [],
   "source": [
    "from pyspark.sql.functions import when\n",
    "df = df.withColumn(\"NewFuel_efficiency\", when(df[\"Fuel_efficiency\"] <= 25, 0).otherwise(1))"
   ]
  },
  {
   "cell_type": "code",
   "execution_count": 62,
   "id": "07e021d5",
   "metadata": {},
   "outputs": [],
   "source": [
    "df = df.drop(\"Fuel_efficiency\")"
   ]
  },
  {
   "cell_type": "code",
   "execution_count": 63,
   "id": "3177f677",
   "metadata": {},
   "outputs": [
    {
     "name": "stdout",
     "output_type": "stream",
     "text": [
      "+------------------+------------------+-----------+----------+---------+-------------+-----------------+------------------+\n",
      "|Sales_in_thousands|Price_in_thousands|Engine_size|Horsepower|Wheelbase|Fuel_capacity|Power_perf_factor|NewFuel_efficiency|\n",
      "+------------------+------------------+-----------+----------+---------+-------------+-----------------+------------------+\n",
      "|            16.919|              21.5|        1.8|       140|    101.2|         13.2|      58.28014952|                 1|\n",
      "|            39.384|              28.4|        3.2|       225|    108.1|         17.2|      91.37077766|                 0|\n",
      "|             8.588|              42.0|        3.5|       210|    114.6|         18.0|      91.38977933|                 0|\n",
      "|            20.397|             23.99|        1.8|       150|    102.6|         16.4|       62.7776392|                 1|\n",
      "|             18.78|             33.95|        2.8|       200|    108.7|         18.5|      84.56510502|                 0|\n",
      "|              1.38|              62.0|        4.2|       310|    113.0|         23.7|      134.6568582|                 0|\n",
      "|            19.747|             26.99|        2.5|       170|    107.3|         16.6|      71.19120671|                 1|\n",
      "|             9.231|              33.4|        2.8|       193|    107.3|         16.6|      81.87706856|                 0|\n",
      "|            17.527|              38.9|        2.8|       193|    111.4|         18.5|       83.9987238|                 0|\n",
      "|            91.561|            21.975|        3.1|       175|    109.0|         17.5|      71.18145132|                 0|\n",
      "|             39.35|              25.3|        3.8|       240|    109.0|         17.5|      95.63670253|                 0|\n",
      "|            27.851|            31.965|        3.8|       205|    113.8|         18.5|      85.82840825|                 0|\n",
      "|            83.257|            27.885|        3.8|       205|    112.2|         17.5|      84.25452581|                 0|\n",
      "|            63.729|            39.895|        4.6|       275|    115.3|         18.5|      113.8545976|                 0|\n",
      "|            15.943|            44.475|        4.6|       275|    112.2|         18.5|      115.6213578|                 0|\n",
      "|             6.536|            39.665|        4.6|       275|    108.0|         19.0|      113.7658739|                 0|\n",
      "|            11.185|             31.01|        3.0|       200|    107.4|         18.0|      83.48309358|                 0|\n",
      "|            14.785|            46.225|        5.7|       255|    117.5|         30.0|      109.5091165|                 0|\n",
      "|           145.519|             13.26|        2.2|       115|    104.1|         14.3|      46.36334747|                 1|\n",
      "|           135.126|            16.535|        3.1|       170|    107.0|         15.0|      67.31446216|                 0|\n",
      "+------------------+------------------+-----------+----------+---------+-------------+-----------------+------------------+\n",
      "only showing top 20 rows\n",
      "\n"
     ]
    }
   ],
   "source": [
    "df.show()"
   ]
  },
  {
   "cell_type": "code",
   "execution_count": 64,
   "id": "37737ebf",
   "metadata": {},
   "outputs": [],
   "source": [
    "X = df.drop(\"NewFuel_efficiency\")"
   ]
  },
  {
   "cell_type": "code",
   "execution_count": null,
   "id": "a10aecea",
   "metadata": {},
   "outputs": [],
   "source": []
  },
  {
   "cell_type": "markdown",
   "id": "1a7207c7",
   "metadata": {},
   "source": [
    "## Select the relevant columns as features and label"
   ]
  },
  {
   "cell_type": "code",
   "execution_count": 65,
   "id": "c084b410",
   "metadata": {},
   "outputs": [
    {
     "name": "stdout",
     "output_type": "stream",
     "text": [
      "+------------------+------------------+-----------+----------+---------+-------------+-----------------+------------------+----------------------------------------------+\n",
      "|Sales_in_thousands|Price_in_thousands|Engine_size|Horsepower|Wheelbase|Fuel_capacity|Power_perf_factor|NewFuel_efficiency|features                                      |\n",
      "+------------------+------------------+-----------+----------+---------+-------------+-----------------+------------------+----------------------------------------------+\n",
      "|16.919            |21.5              |1.8        |140       |101.2    |13.2         |58.28014952      |1                 |[16.919,21.5,1.8,140.0,101.2,13.2,58.28014952]|\n",
      "|39.384            |28.4              |3.2        |225       |108.1    |17.2         |91.37077766      |0                 |[39.384,28.4,3.2,225.0,108.1,17.2,91.37077766]|\n",
      "|8.588             |42.0              |3.5        |210       |114.6    |18.0         |91.38977933      |0                 |[8.588,42.0,3.5,210.0,114.6,18.0,91.38977933] |\n",
      "|20.397            |23.99             |1.8        |150       |102.6    |16.4         |62.7776392       |1                 |[20.397,23.99,1.8,150.0,102.6,16.4,62.7776392]|\n",
      "|18.78             |33.95             |2.8        |200       |108.7    |18.5         |84.56510502      |0                 |[18.78,33.95,2.8,200.0,108.7,18.5,84.56510502]|\n",
      "+------------------+------------------+-----------+----------+---------+-------------+-----------------+------------------+----------------------------------------------+\n",
      "only showing top 5 rows\n",
      "\n"
     ]
    }
   ],
   "source": [
    "assembler = VectorAssembler(inputCols=X.columns , outputCol='features')\n",
    "df2 = assembler.transform(df)\n",
    "df2.show(5, truncate=False)\n"
   ]
  },
  {
   "cell_type": "markdown",
   "id": "81111a10",
   "metadata": {},
   "source": [
    "# Train & Test Data"
   ]
  },
  {
   "cell_type": "code",
   "execution_count": 66,
   "id": "627f00e1",
   "metadata": {},
   "outputs": [],
   "source": [
    "train_data, test_data = df2.randomSplit([0.7, 0.3], seed=42)\n"
   ]
  },
  {
   "cell_type": "markdown",
   "id": "0066b041",
   "metadata": {},
   "source": [
    "# Use DecisionTreeClassifier"
   ]
  },
  {
   "cell_type": "code",
   "execution_count": 67,
   "id": "662c5576",
   "metadata": {},
   "outputs": [],
   "source": [
    "from pyspark.ml.classification import DecisionTreeClassifier\n",
    "clf = DecisionTreeClassifier(featuresCol = 'features', labelCol = 'NewFuel_efficiency', maxDepth = 3)\n"
   ]
  },
  {
   "cell_type": "code",
   "execution_count": 68,
   "id": "a9f1e835",
   "metadata": {},
   "outputs": [],
   "source": [
    "model = clf.fit(train_data)"
   ]
  },
  {
   "cell_type": "code",
   "execution_count": 69,
   "id": "54417049",
   "metadata": {},
   "outputs": [
    {
     "name": "stdout",
     "output_type": "stream",
     "text": [
      "+------------------+\n",
      "|NewFuel_efficiency|\n",
      "+------------------+\n",
      "|                 0|\n",
      "|                 1|\n",
      "|                 0|\n",
      "|                 0|\n",
      "|                 0|\n",
      "+------------------+\n",
      "only showing top 5 rows\n",
      "\n"
     ]
    }
   ],
   "source": [
    "predictions = model.transform(test_data)\n",
    "predictions.select('NewFuel_efficiency').show(5)\n"
   ]
  },
  {
   "cell_type": "code",
   "execution_count": 70,
   "id": "e8d23d32",
   "metadata": {},
   "outputs": [
    {
     "name": "stdout",
     "output_type": "stream",
     "text": [
      "+------------------+----------+-----+\n",
      "|NewFuel_efficiency|prediction|count|\n",
      "+------------------+----------+-----+\n",
      "|                 1|       0.0|    3|\n",
      "|                 0|       0.0|   32|\n",
      "|                 1|       1.0|   10|\n",
      "|                 0|       1.0|    2|\n",
      "+------------------+----------+-----+\n",
      "\n"
     ]
    }
   ],
   "source": [
    "predictions.groupBy('NewFuel_efficiency', 'prediction').count().show()"
   ]
  },
  {
   "cell_type": "code",
   "execution_count": 71,
   "id": "3c9657fd",
   "metadata": {},
   "outputs": [
    {
     "name": "stdout",
     "output_type": "stream",
     "text": [
      "Confusion Matrix:\n",
      "[[32  2]\n",
      " [ 3 10]]\n"
     ]
    },
    {
     "data": {
      "image/png": "[encoded data removed]",
      "text/plain": [
       "<Figure size 360x360 with 1 Axes>"
      ]
     },
     "metadata": {
      "needs_background": "light"
     },
     "output_type": "display_data"
    }
   ],
   "source": [
    "y_true = predictions.select('NewFuel_efficiency').rdd.flatMap(list).collect()\n",
    "y_pred = predictions.select('prediction').rdd.flatMap(list).collect()\n",
    "\n",
    "# calculate accuracy\n",
    "from sklearn import metrics\n",
    "\n",
    "cm = metrics.confusion_matrix(y_true, y_pred)\n",
    "print(\"Confusion Matrix:\")\n",
    "print(cm)\n",
    "\n",
    "import matplotlib.pyplot as plt\n",
    "\n",
    "fig, ax = plt.subplots(figsize=(5, 5))\n",
    "ax.imshow(cm)\n",
    "ax.grid(False)\n",
    "ax.xaxis.set(ticks=(0, 1), ticklabels=('Predicted 0s', 'Predicted 1s'))\n",
    "ax.yaxis.set(ticks=(0, 1), ticklabels=('Actual 0s', 'Actual 1s'))\n",
    "ax.set_ylim(1.5, -0.5)\n",
    "for i in range(2):\n",
    "    for j in range(2):\n",
    "        ax.text(j, i, cm[i, j], ha='center', va='center', color='red')\n",
    "plt.show()\n"
   ]
  },
  {
   "cell_type": "code",
   "execution_count": 72,
   "id": "6ac0cae8",
   "metadata": {},
   "outputs": [
    {
     "name": "stdout",
     "output_type": "stream",
     "text": [
      "Metrics computed from a confusion matrix\n",
      "DecisionTreeClassifier_dee84fce0a0d\n",
      "Accuracy:\t 0.8936170212765957\n",
      "Classification Error: 0.1063829787234043\n",
      "Sensitivity/Recall:\t 0.7692307692307693\n",
      "Specificity:\t 0.9411764705882353\n",
      "Precision:\t 0.8333333333333334\n",
      "False_Positive_Rate: 0.05882352941176472\n",
      "###########################################\n"
     ]
    }
   ],
   "source": [
    "#[row, column]\n",
    "#(Actual, Predict)\n",
    "TP = cm[1, 1]      \n",
    "TN = cm[0, 0]\n",
    "FP = cm[0, 1]\n",
    "FN = cm[1, 0]\n",
    "\n",
    "accuracy = (TN + TP) / (TN + TP + FN + FP)\n",
    "recall = TP / (TP + FN)\n",
    "specificity = TN / (TN + FP)\n",
    "precision = TP / (TP + FP)\n",
    "\n",
    "print('Metrics computed from a confusion matrix')\n",
    "print(clf)\n",
    "print(\"Accuracy:\\t\", accuracy)\n",
    "print(\"Classification Error:\", 1 - accuracy)\n",
    "print(\"Sensitivity/Recall:\\t\", recall)\n",
    "print(\"Specificity:\\t\", specificity)\n",
    "print(\"Precision:\\t\", precision)\n",
    "print(\"False_Positive_Rate:\", 1 - TN / (TN + FP))\n",
    "print('###########################################')"
   ]
  },
  {
   "cell_type": "markdown",
   "id": "73598f5f",
   "metadata": {},
   "source": [
    "# Use RandomForestClassifier"
   ]
  },
  {
   "cell_type": "code",
   "execution_count": 24,
   "id": "3d444f1e",
   "metadata": {},
   "outputs": [],
   "source": [
    "from pyspark.ml.classification import RandomForestClassifier\n",
    "clf = RandomForestClassifier(labelCol='NewFuel_efficiency', featuresCol='features', maxDepth=5)\n",
    "\n",
    "#combines the output of multiple decison tree to reach a single results"
   ]
  },
  {
   "cell_type": "code",
   "execution_count": 25,
   "id": "64e73736",
   "metadata": {},
   "outputs": [],
   "source": [
    "model = clf.fit(train_data)\n"
   ]
  },
  {
   "cell_type": "code",
   "execution_count": 26,
   "id": "93f1b4d1",
   "metadata": {},
   "outputs": [
    {
     "name": "stdout",
     "output_type": "stream",
     "text": [
      "+------------------+\n",
      "|NewFuel_efficiency|\n",
      "+------------------+\n",
      "|                 0|\n",
      "|                 1|\n",
      "|                 0|\n",
      "|                 0|\n",
      "|                 0|\n",
      "+------------------+\n",
      "only showing top 5 rows\n",
      "\n"
     ]
    }
   ],
   "source": [
    "predictions = model.transform(test_data)\n",
    "predictions.select('NewFuel_efficiency').show(5)\n"
   ]
  },
  {
   "cell_type": "code",
   "execution_count": 48,
   "id": "e7d5b45e",
   "metadata": {},
   "outputs": [
    {
     "name": "stdout",
     "output_type": "stream",
     "text": [
      "+------------------+----------+-----+\n",
      "|NewFuel_efficiency|prediction|count|\n",
      "+------------------+----------+-----+\n",
      "|                 1|       0.0|    3|\n",
      "|                 0|       0.0|   32|\n",
      "|                 1|       1.0|   10|\n",
      "|                 0|       1.0|    2|\n",
      "+------------------+----------+-----+\n",
      "\n"
     ]
    }
   ],
   "source": [
    "predictions.groupBy('NewFuel_efficiency', 'prediction').count().show()"
   ]
  },
  {
   "cell_type": "code",
   "execution_count": 27,
   "id": "d1431b62",
   "metadata": {},
   "outputs": [
    {
     "name": "stdout",
     "output_type": "stream",
     "text": [
      "Confusion Matrix:\n",
      "[[33  1]\n",
      " [ 3 10]]\n"
     ]
    },
    {
     "data": {
      "image/png": "[encoded data removed]",
      "text/plain": [
       "<Figure size 360x360 with 1 Axes>"
      ]
     },
     "metadata": {
      "needs_background": "light"
     },
     "output_type": "display_data"
    }
   ],
   "source": [
    "y_true = predictions.select('NewFuel_efficiency').rdd.flatMap(list).collect()\n",
    "y_pred = predictions.select('prediction').rdd.flatMap(list).collect()\n",
    "\n",
    "# calculate accuracy\n",
    "from sklearn import metrics\n",
    "\n",
    "cm = metrics.confusion_matrix(y_true, y_pred)\n",
    "print(\"Confusion Matrix:\")\n",
    "print(cm)\n",
    "\n",
    "import matplotlib.pyplot as plt\n",
    "\n",
    "fig, ax = plt.subplots(figsize=(5, 5))\n",
    "ax.imshow(cm)\n",
    "ax.grid(False)\n",
    "ax.xaxis.set(ticks=(0, 1), ticklabels=('Predicted 0s', 'Predicted 1s'))\n",
    "ax.yaxis.set(ticks=(0, 1), ticklabels=('Actual 0s', 'Actual 1s'))\n",
    "ax.set_ylim(1.5, -0.5)\n",
    "for i in range(2):\n",
    "    for j in range(2):\n",
    "        ax.text(j, i, cm[i, j], ha='center', va='center', color='red')\n",
    "plt.show()\n"
   ]
  },
  {
   "cell_type": "code",
   "execution_count": 28,
   "id": "87420a46",
   "metadata": {},
   "outputs": [
    {
     "name": "stdout",
     "output_type": "stream",
     "text": [
      "Metrics computed from a confusion matrix\n",
      "RandomForestClassifier_c7528132a555\n",
      "Accuracy:\t 0.9148936170212766\n",
      "Classification Error: 0.08510638297872342\n",
      "Sensitivity/Recall:\t 0.7692307692307693\n",
      "Specificity:\t 0.9705882352941176\n",
      "Precision:\t 0.9090909090909091\n",
      "False_Positive_Rate: 0.02941176470588236\n",
      "###########################################\n"
     ]
    }
   ],
   "source": [
    "#[row, column]\n",
    "#(Actual, Predict)\n",
    "TP = cm[1, 1]      \n",
    "TN = cm[0, 0]\n",
    "FP = cm[0, 1]\n",
    "FN = cm[1, 0]\n",
    "\n",
    "accuracy = (TN + TP) / (TN + TP + FN + FP)\n",
    "recall = TP / (TP + FN)\n",
    "specificity = TN / (TN + FP)\n",
    "precision = TP / (TP + FP)\n",
    "\n",
    "print('Metrics computed from a confusion matrix')\n",
    "print(clf)\n",
    "print(\"Accuracy:\\t\", accuracy)\n",
    "print(\"Classification Error:\", 1 - accuracy)\n",
    "print(\"Sensitivity/Recall:\\t\", recall)\n",
    "print(\"Specificity:\\t\", specificity)\n",
    "print(\"Precision:\\t\", precision)\n",
    "print(\"False_Positive_Rate:\", 1 - TN / (TN + FP))\n",
    "print('###########################################')"
   ]
  },
  {
   "cell_type": "markdown",
   "id": "5fdded9a",
   "metadata": {},
   "source": [
    "# Gradient_Boosted Tree Classifier Model"
   ]
  },
  {
   "cell_type": "code",
   "execution_count": 43,
   "id": "77f43f64",
   "metadata": {},
   "outputs": [],
   "source": [
    "# Gradient-boosted Tree classifier Model\n",
    "#to solve classification and regression problem \n",
    "#ensemble technique where the performance of the modeule o,proves over iteration\n",
    "from pyspark.ml.classification import GBTClassifier\n",
    "clf = GBTClassifier(labelCol = 'NewFuel_efficiency', featuresCol = 'features')"
   ]
  },
  {
   "cell_type": "code",
   "execution_count": null,
   "id": "7319adb3",
   "metadata": {},
   "outputs": [],
   "source": []
  },
  {
   "cell_type": "code",
   "execution_count": 44,
   "id": "d815538e",
   "metadata": {},
   "outputs": [],
   "source": [
    "model = clf.fit(train_data)"
   ]
  },
  {
   "cell_type": "code",
   "execution_count": 45,
   "id": "0f02898e",
   "metadata": {},
   "outputs": [
    {
     "name": "stdout",
     "output_type": "stream",
     "text": [
      "+------------------+\n",
      "|NewFuel_efficiency|\n",
      "+------------------+\n",
      "|                 0|\n",
      "|                 1|\n",
      "|                 0|\n",
      "|                 0|\n",
      "|                 0|\n",
      "+------------------+\n",
      "only showing top 5 rows\n",
      "\n"
     ]
    }
   ],
   "source": [
    "predictions = model.transform(test_data)\n",
    "predictions.select('NewFuel_efficiency').show(5)\n"
   ]
  },
  {
   "cell_type": "code",
   "execution_count": 49,
   "id": "8cf7f92a",
   "metadata": {},
   "outputs": [
    {
     "name": "stdout",
     "output_type": "stream",
     "text": [
      "+------------------+----------+-----+\n",
      "|NewFuel_efficiency|prediction|count|\n",
      "+------------------+----------+-----+\n",
      "|                 1|       0.0|    3|\n",
      "|                 0|       0.0|   32|\n",
      "|                 1|       1.0|   10|\n",
      "|                 0|       1.0|    2|\n",
      "+------------------+----------+-----+\n",
      "\n"
     ]
    }
   ],
   "source": [
    "predictions.groupBy('NewFuel_efficiency', 'prediction').count().show()"
   ]
  },
  {
   "cell_type": "code",
   "execution_count": 46,
   "id": "de1ec7a8",
   "metadata": {},
   "outputs": [
    {
     "name": "stdout",
     "output_type": "stream",
     "text": [
      "Confusion Matrix:\n",
      "[[32  2]\n",
      " [ 3 10]]\n"
     ]
    },
    {
     "data": {
      "image/png": "[encoded data removed]",
      "text/plain": [
       "<Figure size 360x360 with 1 Axes>"
      ]
     },
     "metadata": {
      "needs_background": "light"
     },
     "output_type": "display_data"
    }
   ],
   "source": [
    "y_true = predictions.select('NewFuel_efficiency').rdd.flatMap(list).collect()\n",
    "y_pred = predictions.select('prediction').rdd.flatMap(list).collect()\n",
    "\n",
    "# calculate accuracy\n",
    "from sklearn import metrics\n",
    "\n",
    "cm = metrics.confusion_matrix(y_true, y_pred)\n",
    "print(\"Confusion Matrix:\")\n",
    "print(cm)\n",
    "\n",
    "import matplotlib.pyplot as plt\n",
    "\n",
    "fig, ax = plt.subplots(figsize=(5, 5))\n",
    "ax.imshow(cm)\n",
    "ax.grid(False)\n",
    "ax.xaxis.set(ticks=(0, 1), ticklabels=('Predicted 0s', 'Predicted 1s'))\n",
    "ax.yaxis.set(ticks=(0, 1), ticklabels=('Actual 0s', 'Actual 1s'))\n",
    "ax.set_ylim(1.5, -0.5)\n",
    "for i in range(2):\n",
    "    for j in range(2):\n",
    "        ax.text(j, i, cm[i, j], ha='center', va='center', color='red')\n",
    "plt.show()\n"
   ]
  },
  {
   "cell_type": "code",
   "execution_count": 47,
   "id": "f7cd8ae6",
   "metadata": {},
   "outputs": [
    {
     "name": "stdout",
     "output_type": "stream",
     "text": [
      "Metrics computed from a confusion matrix\n",
      "GBTClassifier_2122de27d813\n",
      "Accuracy:\t 0.8936170212765957\n",
      "Classification Error: 0.1063829787234043\n",
      "Sensitivity/Recall:\t 0.7692307692307693\n",
      "Specificity:\t 0.9411764705882353\n",
      "Precision:\t 0.8333333333333334\n",
      "False_Positive_Rate: 0.05882352941176472\n",
      "###########################################\n"
     ]
    }
   ],
   "source": [
    "#[row, column]\n",
    "#(Actual, Predict)\n",
    "TP = cm[1, 1]      \n",
    "TN = cm[0, 0]\n",
    "FP = cm[0, 1]\n",
    "FN = cm[1, 0]\n",
    "\n",
    "accuracy = (TN + TP) / (TN + TP + FN + FP)\n",
    "recall = TP / (TP + FN)\n",
    "specificity = TN / (TN + FP)\n",
    "precision = TP / (TP + FP)\n",
    "\n",
    "print('Metrics computed from a confusion matrix')\n",
    "print(clf)\n",
    "print(\"Accuracy:\\t\", accuracy)\n",
    "print(\"Classification Error:\", 1 - accuracy)\n",
    "print(\"Sensitivity/Recall:\\t\", recall)\n",
    "print(\"Specificity:\\t\", specificity)\n",
    "print(\"Precision:\\t\", precision)\n",
    "print(\"False_Positive_Rate:\", 1 - TN / (TN + FP))\n",
    "print('###########################################')"
   ]
  }
 ],
 "metadata": {
  "kernelspec": {
   "display_name": "Python 3 (ipykernel)",
   "language": "python",
   "name": "python3"
  },
  "language_info": {
   "codemirror_mode": {
    "name": "ipython",
    "version": 3
   },
   "file_extension": ".py",
   "mimetype": "text/x-python",
   "name": "python",
   "nbconvert_exporter": "python",
   "pygments_lexer": "ipython3",
   "version": "3.12.4"
  }
 },
 "nbformat": 4,
 "nbformat_minor": 5
}
